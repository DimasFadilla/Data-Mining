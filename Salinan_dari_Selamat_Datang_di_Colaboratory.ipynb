{
  "cells": [
    {
      "cell_type": "code",
      "source": [
        "import numpy as np\n",
        "import matplotlib.pyplot as plt\n",
        "import pandas as pd\n"
      ],
      "metadata": {
        "id": "h1R4eXJhAYu6"
      },
      "execution_count": null,
      "outputs": []
    },
    {
      "cell_type": "code",
      "source": [
        "dataset = pd.read_csv('Data2.csv')\n",
        "x = dataset.iloc[:, :-1].values\n",
        "y = dataset.iloc[:, -1].values"
      ],
      "metadata": {
        "id": "daj5x_RzHhGt"
      },
      "execution_count": null,
      "outputs": []
    },
    {
      "cell_type": "code",
      "source": [
        "print(x)"
      ],
      "metadata": {
        "id": "C2FGlQzgHlYB",
        "outputId": "c192c952-3fbd-4915-fc0b-62c2b71baf76",
        "colab": {
          "base_uri": "https://localhost:8080/"
        }
      },
      "execution_count": null,
      "outputs": [
        {
          "output_type": "stream",
          "name": "stdout",
          "text": [
            "[[1 'france' 44.0 72000.0]\n",
            " [2 'spain' 27.0 48000.0]\n",
            " [3 'germany' 30.0 54000.0]\n",
            " [4 'spain' 38.0 61000.0]\n",
            " [5 'germany' 40.0 nan]\n",
            " [6 'france' 35.0 58000.0]\n",
            " [7 'spain' nan 52000.0]\n",
            " [8 'france' 48.0 79000.0]\n",
            " [9 'germany' 50.0 83000.0]\n",
            " [10 'france' 37.0 67000.0]\n",
            " [11 'indonesia' 34.0 54000.0]\n",
            " [12 'france' nan 78000.0]\n",
            " [13 'germany' 65.0 nan]\n",
            " [14 'brazil' 55.0 40000.0]\n",
            " [15 'belanda' 33.0 50000.0]]\n"
          ]
        }
      ]
    },
    {
      "cell_type": "code",
      "source": [
        "dataset = pd.read_csv('Data2.csv')\n",
        "x = dataset.iloc[:, :-1].values\n",
        "y = dataset.iloc[:, -1].values"
      ],
      "metadata": {
        "id": "6UpOYdLRHpUw"
      },
      "execution_count": null,
      "outputs": []
    },
    {
      "cell_type": "code",
      "source": [
        "from sklearn.impute import SimpleImputer\n",
        "imputer = SimpleImputer(missing_values=np.nan, strategy='mean')\n",
        "imputer.fit(x[:, 1:3])\n",
        "x[:, 1:3] = imputer.transform(x[:, 1:3])"
      ],
      "metadata": {
        "id": "xplZ5Z6YHvUX"
      },
      "execution_count": null,
      "outputs": []
    },
    {
      "cell_type": "code",
      "source": [
        "print(x)"
      ],
      "metadata": {
        "id": "M5IM58rHId23",
        "outputId": "47e536a8-9038-4194-ad3f-32c7445b5a2a",
        "colab": {
          "base_uri": "https://localhost:8080/"
        }
      },
      "execution_count": null,
      "outputs": [
        {
          "output_type": "stream",
          "name": "stdout",
          "text": [
            "[[1 'france' 44.0 72000.0]\n",
            " [2 'spain' 27.0 48000.0]\n",
            " [3 'germany' 30.0 54000.0]\n",
            " [4 'spain' 38.0 61000.0]\n",
            " [5 'germany' 40.0 nan]\n",
            " [6 'france' 35.0 58000.0]\n",
            " [7 'spain' nan 52000.0]\n",
            " [8 'france' 48.0 79000.0]\n",
            " [9 'germany' 50.0 83000.0]\n",
            " [10 'france' 37.0 67000.0]\n",
            " [11 'indonesia' 34.0 54000.0]\n",
            " [12 'france' nan 78000.0]\n",
            " [13 'germany' 65.0 nan]\n",
            " [14 'brazil' 55.0 40000.0]\n",
            " [15 'belanda' 33.0 50000.0]]\n"
          ]
        }
      ]
    },
    {
      "cell_type": "code",
      "source": [
        "from sklearn.compose import ColumnTransformer\n",
        "from sklearn.preprocessing import OneHotEncoder\n",
        "ct = ColumnTransformer(transformers=[('encoder', OneHotEncoder(), [0])], remainder='passthrough')\n",
        "x = np.array(ct.fit_transform(x))"
      ],
      "metadata": {
        "id": "epAb00Q9LrTO"
      },
      "execution_count": null,
      "outputs": []
    },
    {
      "cell_type": "code",
      "source": [
        "from sklearn.preprocessing import LabelEncoder\n",
        "le = LabelEncoder()\n",
        "y = le.fit_transform(y)\n"
      ],
      "metadata": {
        "id": "t2PoIza6Lx8x"
      },
      "execution_count": null,
      "outputs": []
    },
    {
      "cell_type": "code",
      "source": [
        "print(y)\n",
        "\n"
      ],
      "metadata": {
        "id": "E9GgoDScL0jV",
        "outputId": "72371cb2-3643-42b9-f8ee-5b3fe95c205d",
        "colab": {
          "base_uri": "https://localhost:8080/"
        }
      },
      "execution_count": null,
      "outputs": [
        {
          "output_type": "stream",
          "name": "stdout",
          "text": [
            "[0 1 0 0 1 1 0 1 0 1 1 0 1 0 1]\n"
          ]
        }
      ]
    },
    {
      "cell_type": "code",
      "source": [
        "from sklearn.model_selection import train_test_split\n",
        "x_train, x_test, y_train, y_test = train_test_split(x, y, test_size=0.2, random_state=1)\n"
      ],
      "metadata": {
        "id": "1JFUh6D8L4C1"
      },
      "execution_count": null,
      "outputs": []
    },
    {
      "cell_type": "code",
      "source": [
        "print(x_train)"
      ],
      "metadata": {
        "id": "AUHX06raL9ez",
        "outputId": "9e2a1795-01d3-4092-9100-5ecf30961fb8",
        "colab": {
          "base_uri": "https://localhost:8080/"
        }
      },
      "execution_count": null,
      "outputs": [
        {
          "output_type": "stream",
          "name": "stdout",
          "text": [
            "[[0.0 0.0 0.0 1.0 0.0 0.0 30.0 54000.0]\n",
            " [0.0 0.0 0.0 0.0 1.0 0.0 34.0 54000.0]\n",
            " [0.0 0.0 0.0 1.0 0.0 0.0 40.0 61230.769230769234]\n",
            " [0.0 0.0 0.0 0.0 0.0 1.0 27.0 48000.0]\n",
            " [0.0 1.0 0.0 0.0 0.0 0.0 55.0 40000.0]\n",
            " [0.0 0.0 1.0 0.0 0.0 0.0 44.0 72000.0]\n",
            " [1.0 0.0 0.0 0.0 0.0 0.0 33.0 50000.0]\n",
            " [0.0 0.0 1.0 0.0 0.0 0.0 37.0 67000.0]\n",
            " [0.0 0.0 0.0 1.0 0.0 0.0 50.0 83000.0]\n",
            " [0.0 0.0 0.0 1.0 0.0 0.0 65.0 61230.769230769234]\n",
            " [0.0 0.0 1.0 0.0 0.0 0.0 41.23076923076923 78000.0]\n",
            " [0.0 0.0 1.0 0.0 0.0 0.0 35.0 58000.0]]\n"
          ]
        }
      ]
    },
    {
      "cell_type": "code",
      "source": [
        "print(x_test)"
      ],
      "metadata": {
        "id": "4tdlPVANMDvx",
        "outputId": "5f6f0d46-f4f9-402a-8054-f6a4bd05b9d5",
        "colab": {
          "base_uri": "https://localhost:8080/"
        }
      },
      "execution_count": null,
      "outputs": [
        {
          "output_type": "stream",
          "name": "stdout",
          "text": [
            "[[0.0 0.0 0.0 0.0 0.0 1.0 38.0 61000.0]\n",
            " [0.0 0.0 1.0 0.0 0.0 0.0 48.0 79000.0]\n",
            " [0.0 0.0 0.0 0.0 0.0 1.0 41.23076923076923 52000.0]]\n"
          ]
        }
      ]
    },
    {
      "cell_type": "code",
      "source": [
        "print(y_train)"
      ],
      "metadata": {
        "id": "YoM50R6AMHEh",
        "outputId": "065ceca9-9bd7-4dff-fe53-e022fbe77fcd",
        "colab": {
          "base_uri": "https://localhost:8080/"
        }
      },
      "execution_count": null,
      "outputs": [
        {
          "output_type": "stream",
          "name": "stdout",
          "text": [
            "[0 1 1 1 0 0 1 1 0 1 0 1]\n"
          ]
        }
      ]
    },
    {
      "cell_type": "code",
      "source": [
        "print(y_test)"
      ],
      "metadata": {
        "id": "yQ60QYF8MJ97",
        "outputId": "e3caeefc-9958-4e23-f4e1-957774cea33a",
        "colab": {
          "base_uri": "https://localhost:8080/"
        }
      },
      "execution_count": null,
      "outputs": [
        {
          "output_type": "stream",
          "name": "stdout",
          "text": [
            "[0 1 0]\n"
          ]
        }
      ]
    },
    {
      "cell_type": "code",
      "source": [
        "from sklearn.preprocessing import StandardScaler\n",
        "sc = StandardScaler()\n",
        "x_train[:, 3:] = sc.fit_transform(x_train[:, 3:])\n",
        "x_test[:, 3:] = sc.fit_transform(x_test[:, 3:])"
      ],
      "metadata": {
        "id": "-373V8U4MLTA"
      },
      "execution_count": null,
      "outputs": []
    },
    {
      "cell_type": "code",
      "source": [
        "print(x_train)"
      ],
      "metadata": {
        "id": "VexWAZT4MP2b",
        "outputId": "df091067-9ce8-42db-c162-ccc9b1225de7",
        "colab": {
          "base_uri": "https://localhost:8080/"
        }
      },
      "execution_count": null,
      "outputs": [
        {
          "output_type": "stream",
          "name": "stdout",
          "text": [
            "[[0.0 0.0 0.0 1.4142135623730951 -0.3015113445777637 -0.30151134457776363\n",
            "  -1.0329594484020912 -0.5390463993494963]\n",
            " [0.0 0.0 0.0 -0.7071067811865475 3.3166247903554007 -0.30151134457776363\n",
            "  -0.6551360628200836 -0.5390463993494963]\n",
            " [0.0 0.0 0.0 1.4142135623730951 -0.3015113445777637 -0.30151134457776363\n",
            "  -0.08840098444707245 0.05707550110759395]\n",
            " [0.0 0.0 0.0 -0.7071067811865475 -0.3015113445777637 3.3166247903554\n",
            "  -1.3163269875885968 -1.0337007422819753]\n",
            " [0.0 1.0 0.0 -0.7071067811865475 -0.3015113445777637\n",
            "  -0.30151134457776363 1.3284367114854556 -1.693239866191947]\n",
            " [0.0 0.0 1.0 -0.7071067811865475 -0.3015113445777637\n",
            "  -0.30151134457776363 0.289422401134935 0.9449166294479404]\n",
            " [1.0 0.0 0.0 -0.7071067811865475 -0.3015113445777637\n",
            "  -0.30151134457776363 -0.7495919092155855 -0.8688159613044822]\n",
            " [0.0 0.0 1.0 -0.7071067811865475 -0.3015113445777637\n",
            "  -0.30151134457776363 -0.37176852363357804 0.532704677004208]\n",
            " [0.0 0.0 0.0 1.4142135623730951 -0.3015113445777637 -0.30151134457776363\n",
            "  0.8561574795079463 1.8517829248241517]\n",
            " [0.0 0.0 0.0 1.4142135623730951 -0.3015113445777637 -0.30151134457776363\n",
            "  2.2729951754404745 0.05707550110759395]\n",
            " [0.0 0.0 1.0 -0.7071067811865475 -0.3015113445777637\n",
            "  -0.30151134457776363 0.027852364962776262 1.4395709723804193]\n",
            " [0.0 0.0 1.0 -0.7071067811865475 -0.3015113445777637\n",
            "  -0.30151134457776363 -0.5606802164245818 -0.20927683739451036]]\n"
          ]
        }
      ]
    }
  ],
  "metadata": {
    "colab": {
      "provenance": []
    },
    "kernelspec": {
      "display_name": "Python 3",
      "name": "python3"
    }
  },
  "nbformat": 4,
  "nbformat_minor": 0
}